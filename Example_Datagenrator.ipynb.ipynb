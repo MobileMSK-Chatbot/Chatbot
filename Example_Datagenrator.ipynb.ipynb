{
  "nbformat": 4,
  "nbformat_minor": 0,
  "metadata": {
    "colab": {
      "provenance": []
    },
    "kernelspec": {
      "name": "python3",
      "display_name": "Python 3"
    },
    "language_info": {
      "name": "python"
    }
  },
  "cells": [
    {
      "cell_type": "code",
      "execution_count": null,
      "metadata": {
        "colab": {
          "base_uri": "https://localhost:8080/"
        },
        "id": "-4ZjeUwMq0IN",
        "outputId": "fbd0c04d-1d4f-4f59-f2cf-a2c7a5807230"
      },
      "outputs": [
        {
          "output_type": "stream",
          "name": "stdout",
          "text": [
            "Dataset generated and saved as 'medical_terms_and_cures_large.csv'\n"
          ]
        }
      ],
      "source": [
        "import pandas as pd\n",
        "import random\n",
        "from datetime import datetime\n",
        "\n",
        "# Define a base set of sample data\n",
        "base_terms = [\n",
        "    {\n",
        "        \"Term\": \"Hypertension\",\n",
        "        \"Definition\": \"A condition in which the force of the blood against the artery walls is too high.\",\n",
        "        \"Causes\": \"Genetics, poor diet, lack of exercise, stress\",\n",
        "        \"Symptoms\": \"Headaches, dizziness, shortness of breath\",\n",
        "        \"Diagnosis\": \"Blood pressure tests\",\n",
        "        \"Treatments\": \"Lifestyle changes, medications\",\n",
        "        \"Medications\": \"ACE inhibitors, beta blockers, calcium channel blockers\",\n",
        "        \"Prevention\": \"Regular exercise, healthy diet, stress management\",\n",
        "        \"Prognosis\": \"Good with treatment, risk of stroke or heart attack if untreated\",\n",
        "        \"Complications\": \"Heart disease, stroke, kidney damage\",\n",
        "        \"References\": \"American Heart Association\"\n",
        "    },\n",
        "    {\n",
        "        \"Term\": \"Diabetes\",\n",
        "        \"Definition\": \"A group of diseases that result in too much sugar in the blood.\",\n",
        "        \"Causes\": \"Genetics, obesity, lack of exercise\",\n",
        "        \"Symptoms\": \"Frequent urination, excessive thirst, extreme hunger\",\n",
        "        \"Diagnosis\": \"Blood sugar tests, HbA1c test\",\n",
        "        \"Treatments\": \"Insulin therapy, medications, lifestyle changes\",\n",
        "        \"Medications\": \"Metformin, insulin, sulfonylureas\",\n",
        "        \"Prevention\": \"Healthy diet, regular exercise, maintaining a healthy weight\",\n",
        "        \"Prognosis\": \"Manageable with treatment, risk of complications if untreated\",\n",
        "        \"Complications\": \"Heart disease, nerve damage, kidney failure\",\n",
        "        \"References\": \"American Diabetes Association\"\n",
        "    },\n",
        "    {\n",
        "        \"Term\": \"Asthma\",\n",
        "        \"Definition\": \"A condition in which your airways narrow and swell and produce extra mucus.\",\n",
        "        \"Causes\": \"Allergens, pollution, respiratory infections\",\n",
        "        \"Symptoms\": \"Wheezing, shortness of breath, chest tightness\",\n",
        "        \"Diagnosis\": \"Spirometry, peak flow test\",\n",
        "        \"Treatments\": \"Inhalers, long-term control medications, quick-relief inhalers\",\n",
        "        \"Medications\": \"Albuterol, corticosteroids\",\n",
        "        \"Prevention\": \"Avoiding triggers, taking preventive medication\",\n",
        "        \"Prognosis\": \"Variable, can be managed with treatment\",\n",
        "        \"Complications\": \"Severe asthma attacks, respiratory failure\",\n",
        "        \"References\": \"Mayo Clinic\"\n",
        "    }\n",
        "]\n",
        "\n",
        "# Function to generate more entries based on the base set\n",
        "def generate_entries(base_terms, num_entries):\n",
        "    data = []\n",
        "    for i in range(1, num_entries + 1):\n",
        "        term = random.choice(base_terms)\n",
        "        new_entry = [\n",
        "            i,\n",
        "            f\"{term['Term']} {i}\",  # Append a unique identifier to each term\n",
        "            term[\"Definition\"],\n",
        "            term[\"Causes\"],\n",
        "            term[\"Symptoms\"],\n",
        "            term[\"Diagnosis\"],\n",
        "            term[\"Treatments\"],\n",
        "            term[\"Medications\"],\n",
        "            term[\"Prevention\"],\n",
        "            term[\"Prognosis\"],\n",
        "            term[\"Complications\"],\n",
        "            term[\"References\"]\n",
        "        ]\n",
        "        data.append(new_entry)\n",
        "    return data\n",
        "\n",
        "# Generate 100,000 entries\n",
        "entries = generate_entries(base_terms, 100000)\n",
        "\n",
        "# Create DataFrame\n",
        "df = pd.DataFrame(entries, columns=[\"TermID\", \"Term\", \"Definition\", \"Causes\", \"Symptoms\", \"Diagnosis\", \"Treatments\", \"Medications\", \"Prevention\", \"Prognosis\", \"Complications\", \"References\"])\n",
        "\n",
        "# Save to CSV\n",
        "df.to_csv(\"medical_terms_and_cures_large.csv\", index=False)\n",
        "print(\"Dataset generated and saved as 'medical_terms_and_cures_large.csv'\")\n"
      ]
    }
  ]
}